#Import the necessary libraries
import pandas as pd
import numpy as np
import string
import matplotlib.pyplot as plt
import seaborn as sns
import shap
import lime
import lime.lime_text
from sklearn.model_selection import train_test_split
from sklearn.feature_extraction.text import TfidfVectorizer
from sklearn.linear_model import LogisticRegression
from sklearn.metrics import accuracy_score, classification_report, confusion_matrix
from sklearn.pipeline import make_pipeline
import nltk
from nltk.corpus import stopwords
from nltk.stem import WordNetLemmatizer
import re
import warnings
warnings.filterwarnings("ignore")

# Download NLTK resources
nltk.download('stopwords')
nltk.download('wordnet')
nltk.download('punkt')


# -------------------------
# 1. Load and Clean Dataset
# -------------------------
df = pd.read_csv("path_to_file\\fake_reviews_dataset.csv")
df = df[['text', 'label']].dropna()
df = df[df['label'].isin(['CG', 'OR'])]
df['label'] = df['label'].map({'OR': 1, 'CG': 0})  # CG = Fake , OR = Real

# -------------------------
# 2. Text Preprocessing
# -------------------------
lemmatizer = WordNetLemmatizer()
stop_words = set(stopwords.words('english'))

def clean_text(text):
    text = str(text).lower()                          # Lowercase
    text = re.sub(r'http\S+', '', text)               # Remove URLs
    text = re.sub(r'\d+', '', text)                   # Remove digits
    text = text.translate(str.maketrans('', '', string.punctuation))  # Remove punctuation
    tokens = nltk.word_tokenize(text)
    tokens = [lemmatizer.lemmatize(w) for w in tokens if w not in stop_words]
    return ' '.join(tokens)

df['cleaned_text'] = df['text'].apply(clean_text)

# -------------------------
# 3. Train/Test Split
# -------------------------
X = df['cleaned_text'].values
y = df['label'].values

X_train, X_test, y_train, y_test = train_test_split(
    X, y, test_size=0.2, random_state=42)

# -------------------------
# 4. TF-IDF Vectorization
# -------------------------
vectorizer = TfidfVectorizer(max_features=5000)
X_train_vec = vectorizer.fit_transform(X_train)
X_test_vec = vectorizer.transform(X_test)

# -------------------------
# 5. Train Models
# -------------------------

lr_model = LogisticRegression()
lr_model.fit(X_train_vec, y_train)
lr_pred = lr_model.predict(X_test_vec)
lr_acc = accuracy_score(y_test, lr_pred)


# -------------------------
# 6. Accuracy Comparison Table
# -------------------------

print(f'\nModel Accuracy:\nLogistic regression: {lr_acc*100:.2f}%')

# -------------------------
# 7. Classification Reports
# -------------------------
print("\nClassification Reports:\n")
print("Logistic Regression:\n", classification_report(y_test, lr_pred))


# -------------------------
# 8. Confusion Matrix Plot
# -------------------------
def plot_confusion(y_true, y_pred, title):
    cm = confusion_matrix(y_true, y_pred)
    sns.heatmap(cm, annot=True, fmt='d', cmap='Blues')
    plt.title(f'{title} Confusion Matrix')
    plt.xlabel("Predicted")
    plt.ylabel("True")
    plt.show()

plot_confusion(y_test, lr_pred, "Logistic Regression")


# -------------------------
# 9. LIME Explanations
# -------------------------
print("\nGenerating LIME Explanations...")

class_names = ['Original', 'Fake']
explainer = lime.lime_text.LimeTextExplainer(class_names=class_names)

idx = 10

lr_pipeline = make_pipeline(vectorizer, lr_model)
exp_lr = explainer.explain_instance(X_test[idx], lr_pipeline.predict_proba, num_features=10)
print("\nLIME Explanation for Logistic Regression:")
exp_lr.show_in_notebook(text=True)

# -------------------------
# 10. SHAP Explanations
# -------------------------
print("\nGenerating SHAP Explanations...")
explainer_lr = shap.Explainer(lr_model, X_train_vec, feature_names=vectorizer.get_feature_names_out())
shap_values_lr = explainer_lr(X_test_vec[:100])
shap.plots.bar(shap_values_lr)
